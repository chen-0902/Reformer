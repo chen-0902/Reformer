{
 "cells": [
  {
   "cell_type": "markdown",
   "metadata": {},
   "source": [
    "`pip install reformer_pytorch`\n"
   ]
  },
  {
   "cell_type": "markdown",
   "metadata": {},
   "source": [
    "### References\n",
    "\n",
    "- Text classification with the torchtext library: https://pytorch.org/tutorials/beginner/text_sentiment_ngrams_tutorial.html\n",
    "- reformer-pytorch: https://github.com/lucidrains/reformer-pytorch?tab=readme-ov-file\n",
    "- IMDB dataset: http://ai.stanford.edu/~amaas/data/sentiment/\n"
   ]
  },
  {
   "cell_type": "code",
   "execution_count": 1,
   "metadata": {},
   "outputs": [],
   "source": [
    "import torch\n",
    "import torch.nn as nn\n",
    "import torch.optim as optim\n",
    "from torch.utils.data import Dataset\n",
    "from torch.utils.data import DataLoader\n",
    "from torchtext.datasets import IMDB\n",
    "from torchtext.data.utils import get_tokenizer\n",
    "from torchtext.vocab import build_vocab_from_iterator\n",
    "from reformer_pytorch import ReformerLM\n",
    "from sklearn.metrics import accuracy_score, f1_score\n",
    "import tqdm as tqdm\n",
    "import matplotlib.pyplot as plt\n",
    "import seaborn as sns\n",
    "import time"
   ]
  },
  {
   "cell_type": "code",
   "execution_count": 2,
   "metadata": {},
   "outputs": [],
   "source": [
    "if torch.cuda.is_available():\n",
    "    device = torch.device(\"cuda\")\n",
    "elif torch.backends.mps.is_available():\n",
    "    device = torch.device(\"mps\")\n",
    "else:\n",
    "    device = torch.device(\"cpu\")"
   ]
  },
  {
   "cell_type": "markdown",
   "metadata": {},
   "source": [
    "## Build the dataset\n",
    "\n",
    "Use the IMDB dataset for sentiment analysis. The dataset is already available in the `torchtext` library.\n",
    "\n",
    "- label = 0 means negative sentiment\n",
    "- label = 1 means positive sentiment.\n"
   ]
  },
  {
   "cell_type": "code",
   "execution_count": 3,
   "metadata": {},
   "outputs": [
    {
     "name": "stdout",
     "output_type": "stream",
     "text": [
      "2 Brilliant and moving performances by Tom Courtenay and Peter Finch.\n",
      "2 Add this little gem to your list of holiday regulars. It is<br /><br />sweet, funny, and endearing\n",
      "2 This is a great movie. Too bad it is not available on home video.\n",
      "2 This is a good film. This is very funny. Yet after this film there were no good Ernest films!\n",
      "2 If you like Pauly Shore, you'll love Son in Law. If you hate Pauly Shore, then, well...I liked it!\n"
     ]
    }
   ],
   "source": [
    "# Checkout sample data\n",
    "train_iter, test_iter = IMDB(split=(\"train\", \"test\"))\n",
    "\n",
    "labels = {}\n",
    "count = 0\n",
    "for label, line in test_iter:\n",
    "    # print(label, line)\n",
    "    if label == 2 and len(line) > 0 and len(line) < 100 and count < 5:\n",
    "        print(label, line)\n",
    "        # break\n",
    "        count += 1\n",
    "    # labels[label] = labels.get(label, 0) + 1\n",
    "# labels"
   ]
  },
  {
   "cell_type": "code",
   "execution_count": 4,
   "metadata": {},
   "outputs": [],
   "source": [
    "# Basic tokenizer for English\n",
    "tokenizer = get_tokenizer(\"basic_english\")\n",
    "\n",
    "\n",
    "# Build vocabulary\n",
    "def yield_tokens(data_iter):\n",
    "    for _, text in data_iter:\n",
    "        yield tokenizer(text)\n",
    "\n",
    "\n",
    "# Reload the training iterator for building vocab\n",
    "train_iter, _ = IMDB(split=(\"train\", \"test\"))\n",
    "vocab = build_vocab_from_iterator(yield_tokens(train_iter), specials=[\"<unk>\", \"<pad>\"])\n",
    "vocab.set_default_index(\n",
    "    vocab[\"<unk>\"]\n",
    ")  # Set default index for out-of-vocabulary tokens\n",
    "NUM_TOKENS = len(vocab)"
   ]
  },
  {
   "cell_type": "code",
   "execution_count": 5,
   "metadata": {},
   "outputs": [],
   "source": [
    "def text_pipeline(x):\n",
    "    return vocab(tokenizer(x))\n",
    "\n",
    "\n",
    "def label_pipeline(x):\n",
    "    # the original dataset\n",
    "    # 1 for negative, 2 for positive\n",
    "    return x - 1\n",
    "\n",
    "\n",
    "class IMDBDataset(Dataset):\n",
    "    def __init__(self, split):\n",
    "        self.examples = list()\n",
    "        self.text_pipeline = text_pipeline\n",
    "        self.label_pipeline = label_pipeline\n",
    "        self.avg_length = self.calculate_avg_length()\n",
    "        # to avoid too long padding\n",
    "        for label, text in IMDB(split=split):\n",
    "            tokenized_text = tokenizer(text)\n",
    "            if len(tokenized_text) <= self.avg_length:\n",
    "                self.examples.append((label, text))\n",
    "\n",
    "    def __len__(self):\n",
    "        return len(self.examples)\n",
    "\n",
    "    def __getitem__(self, idx):\n",
    "        label, text = self.examples[idx]\n",
    "        label = self.label_pipeline(label)\n",
    "        text = torch.tensor(self.text_pipeline(text), dtype=torch.int64)\n",
    "        return text, label\n",
    "\n",
    "    def calculate_avg_length(self):\n",
    "        lengths = [len(tokenizer(text)) for _, text in IMDB(split=\"train\")]\n",
    "        return sum(lengths) / len(lengths)\n",
    "\n",
    "\n",
    "def collate_batch(batch):\n",
    "    label_list, text_list = [], []\n",
    "    max_len = 256  # Define the maximum sequence length\n",
    "\n",
    "    for _text, _label in batch:\n",
    "        label_list.append(_label)\n",
    "        # Ensure _text is a tensor\n",
    "        if len(_text) > max_len:\n",
    "            # Truncate if longer than max_len\n",
    "            _text = _text[:max_len]\n",
    "        elif len(_text) < max_len:\n",
    "            # Pad if shorter than max_len\n",
    "            padding_length = max_len - len(_text)\n",
    "            padding = torch.full(\n",
    "                (padding_length,), vocab[\"<pad>\"], dtype=torch.int64\n",
    "            )  # Ensure vocab['<pad>'] is defined and consistent with your data\n",
    "            _text = torch.cat((_text, padding), dim=0)\n",
    "\n",
    "        text_list.append(_text)\n",
    "\n",
    "    # Stack all texts and labels into tensors\n",
    "    texts = torch.stack(text_list, dim=0)\n",
    "    labels = torch.tensor(label_list, dtype=torch.int64)\n",
    "\n",
    "    return texts, labels"
   ]
  },
  {
   "cell_type": "code",
   "execution_count": 6,
   "metadata": {},
   "outputs": [],
   "source": [
    "# Create DataLoader\n",
    "train_dataset = IMDBDataset(\"train\")\n",
    "train_loader = DataLoader(\n",
    "    train_dataset, batch_size=32, shuffle=True, collate_fn=collate_batch\n",
    ")\n",
    "test_dataset = IMDBDataset(\"test\")\n",
    "test_loader = DataLoader(\n",
    "    test_dataset, batch_size=32, shuffle=True, collate_fn=collate_batch\n",
    ")"
   ]
  },
  {
   "cell_type": "code",
   "execution_count": 7,
   "metadata": {},
   "outputs": [
    {
     "name": "stdout",
     "output_type": "stream",
     "text": [
      "Text batch shape: torch.Size([32, 256])\n",
      "Label batch shape: torch.Size([32])\n"
     ]
    }
   ],
   "source": [
    "for text, label in train_loader:\n",
    "    print(\"Text batch shape:\", text.size())\n",
    "    # print(text)\n",
    "    print(\"Label batch shape:\", label.size())\n",
    "    # print(label)\n",
    "    break"
   ]
  },
  {
   "cell_type": "code",
   "execution_count": 8,
   "metadata": {},
   "outputs": [],
   "source": [
    "NUM_CLASSES = 2\n",
    "NUM_ENCODER_LAYERS = 3\n",
    "NUM_HEADS = 4\n",
    "EMEBED_DIM = 256\n",
    "TRAIN_EPOCHS = 6\n",
    "seq_length = 256"
   ]
  },
  {
   "cell_type": "markdown",
   "metadata": {},
   "source": [
    "## Transformer\n"
   ]
  },
  {
   "cell_type": "code",
   "execution_count": 9,
   "metadata": {},
   "outputs": [],
   "source": [
    "class EncoderOnlyTransformer(nn.Module):\n",
    "    def __init__(self, d_model=256, nhead=4, num_encoder_layers=1, dim_feedforward=256):\n",
    "        super(EncoderOnlyTransformer, self).__init__()\n",
    "        self.transformer_encoder = nn.TransformerEncoder(\n",
    "            nn.TransformerEncoderLayer(\n",
    "                d_model=d_model,\n",
    "                nhead=nhead,\n",
    "                dim_feedforward=dim_feedforward,\n",
    "                batch_first=True,\n",
    "            ),\n",
    "            num_layers=num_encoder_layers,\n",
    "        )\n",
    "        self.dropout = nn.Dropout(0.2)\n",
    "        self.embedding = nn.Embedding(NUM_TOKENS, d_model)\n",
    "        self.classifier = nn.Linear(d_model, 1)\n",
    "\n",
    "    def forward(self, src):\n",
    "        src = self.embedding(src)\n",
    "        encoded_output = self.transformer_encoder(src)\n",
    "        # encoded_output = encoded_output[:, -1, :]\n",
    "        encoded_output = self.dropout(encoded_output)\n",
    "        encoded_output = encoded_output.max(dim=1)[0]\n",
    "        output = self.classifier(encoded_output)\n",
    "        return output\n",
    "\n",
    "\n",
    "transformer_model = EncoderOnlyTransformer(\n",
    "    d_model=EMEBED_DIM,\n",
    "    nhead=NUM_HEADS,\n",
    "    num_encoder_layers=NUM_ENCODER_LAYERS,\n",
    "    dim_feedforward=EMEBED_DIM,\n",
    ").to(device)"
   ]
  },
  {
   "cell_type": "code",
   "execution_count": 10,
   "metadata": {},
   "outputs": [
    {
     "name": "stdout",
     "output_type": "stream",
     "text": [
      "26,962,689 training parameters.\n",
      "\n"
     ]
    }
   ],
   "source": [
    "total_trainable_params = sum(\n",
    "    p.numel() for p in transformer_model.parameters() if p.requires_grad\n",
    ")\n",
    "print(f\"{total_trainable_params:,} training parameters.\\n\")"
   ]
  },
  {
   "cell_type": "markdown",
   "metadata": {},
   "source": [
    "### Train the Transformer model\n"
   ]
  },
  {
   "cell_type": "code",
   "execution_count": 11,
   "metadata": {},
   "outputs": [],
   "source": [
    "# use cross entropy loss for classification task\n",
    "criterion = nn.BCEWithLogitsLoss()\n",
    "optimizer = optim.Adam(transformer_model.parameters(), lr=0.00001)"
   ]
  },
  {
   "cell_type": "code",
   "execution_count": 12,
   "metadata": {},
   "outputs": [],
   "source": [
    "def calculate_accuracy(output, y_true):\n",
    "    y_pred = torch.sigmoid(output).round()\n",
    "    return accuracy_score(y_true.detach().cpu().numpy(), y_pred.detach().cpu().numpy())"
   ]
  },
  {
   "cell_type": "code",
   "execution_count": 13,
   "metadata": {},
   "outputs": [
    {
     "name": "stderr",
     "output_type": "stream",
     "text": [
      "  0%|          | 0/6 [00:00<?, ?it/s]"
     ]
    },
    {
     "name": "stdout",
     "output_type": "stream",
     "text": [
      "Step 0: Loss 0.6903313398361206 Accuracy 0.625\n",
      "Step 100: Loss 0.6711369156837463 Accuracy 0.5625\n",
      "Step 200: Loss 0.6750435829162598 Accuracy 0.5625\n",
      "Step 300: Loss 0.677862286567688 Accuracy 0.53125\n",
      "Step 400: Loss 0.6641033887863159 Accuracy 0.59375\n",
      "Step 500: Loss 0.6569305658340454 Accuracy 0.625\n"
     ]
    },
    {
     "name": "stderr",
     "output_type": "stream",
     "text": [
      " 17%|█▋        | 1/6 [00:46<03:53, 46.65s/it]"
     ]
    },
    {
     "name": "stdout",
     "output_type": "stream",
     "text": [
      "Step 600: Loss 0.65130615234375 Accuracy 0.5625\n",
      "Step 700: Loss 0.7105265259742737 Accuracy 0.5625\n",
      "Step 800: Loss 0.6322641372680664 Accuracy 0.6875\n",
      "Step 900: Loss 0.5881092548370361 Accuracy 0.78125\n",
      "Step 1000: Loss 0.5980153679847717 Accuracy 0.71875\n"
     ]
    },
    {
     "name": "stderr",
     "output_type": "stream",
     "text": [
      " 33%|███▎      | 2/6 [01:32<03:03, 45.98s/it]"
     ]
    },
    {
     "name": "stdout",
     "output_type": "stream",
     "text": [
      "Step 1100: Loss 0.5761356353759766 Accuracy 0.8125\n",
      "Step 1200: Loss 0.5496800541877747 Accuracy 0.84375\n",
      "Step 1300: Loss 0.6044672727584839 Accuracy 0.6875\n",
      "Step 1400: Loss 0.6501498222351074 Accuracy 0.53125\n",
      "Step 1500: Loss 0.5692673921585083 Accuracy 0.71875\n"
     ]
    },
    {
     "name": "stderr",
     "output_type": "stream",
     "text": [
      " 50%|█████     | 3/6 [02:17<02:17, 45.84s/it]"
     ]
    },
    {
     "name": "stdout",
     "output_type": "stream",
     "text": [
      "Step 1600: Loss 0.5444921851158142 Accuracy 0.71875\n",
      "Step 1700: Loss 0.4902651607990265 Accuracy 0.8125\n",
      "Step 1800: Loss 0.5018073916435242 Accuracy 0.84375\n",
      "Step 1900: Loss 0.6005122661590576 Accuracy 0.65625\n",
      "Step 2000: Loss 0.5417637825012207 Accuracy 0.71875\n"
     ]
    },
    {
     "name": "stderr",
     "output_type": "stream",
     "text": [
      " 67%|██████▋   | 4/6 [03:03<01:31, 45.76s/it]"
     ]
    },
    {
     "name": "stdout",
     "output_type": "stream",
     "text": [
      "Step 2100: Loss 0.5609153509140015 Accuracy 0.75\n",
      "Step 2200: Loss 0.506327748298645 Accuracy 0.6875\n",
      "Step 2300: Loss 0.4931066036224365 Accuracy 0.78125\n",
      "Step 2400: Loss 0.5553968548774719 Accuracy 0.6875\n",
      "Step 2500: Loss 0.514446496963501 Accuracy 0.78125\n"
     ]
    },
    {
     "name": "stderr",
     "output_type": "stream",
     "text": [
      " 83%|████████▎ | 5/6 [03:49<00:45, 45.76s/it]"
     ]
    },
    {
     "name": "stdout",
     "output_type": "stream",
     "text": [
      "Step 2600: Loss 0.4866301417350769 Accuracy 0.8125\n",
      "Step 2700: Loss 0.5388359427452087 Accuracy 0.6875\n",
      "Step 2800: Loss 0.5656405091285706 Accuracy 0.78125\n",
      "Step 2900: Loss 0.47753971815109253 Accuracy 0.8125\n",
      "Step 3000: Loss 0.5385168790817261 Accuracy 0.71875\n",
      "Step 3100: Loss 0.49306946992874146 Accuracy 0.6875\n"
     ]
    },
    {
     "name": "stderr",
     "output_type": "stream",
     "text": [
      "100%|██████████| 6/6 [04:35<00:00, 45.93s/it]"
     ]
    },
    {
     "name": "stdout",
     "output_type": "stream",
     "text": [
      "Training transformer completed.\n",
      "Training time: 275.62 seconds\n"
     ]
    },
    {
     "name": "stderr",
     "output_type": "stream",
     "text": [
      "\n"
     ]
    }
   ],
   "source": [
    "# Training Loop\n",
    "transformer_model.train()\n",
    "start_time = time.time()\n",
    "transformer_train_loss = []\n",
    "transformer_train_acc = []\n",
    "current_step = 0\n",
    "for epochs in tqdm.tqdm(range(TRAIN_EPOCHS)):\n",
    "    for reviews, label in train_loader:\n",
    "        reviews = reviews.to(device)\n",
    "        label = label.to(device)\n",
    "        optimizer.zero_grad()\n",
    "        output = transformer_model(reviews)\n",
    "        output = output.squeeze()\n",
    "        label = label.float()\n",
    "        loss = criterion(output, label)\n",
    "        loss.backward()\n",
    "        optimizer.step()\n",
    "        if current_step % 10 == 0:\n",
    "            acc = calculate_accuracy(output, label)\n",
    "            transformer_train_loss.append(loss.item())\n",
    "            transformer_train_acc.append(acc)\n",
    "            if current_step % 100 == 0:\n",
    "                print(\n",
    "                    f\"\"\"Step {current_step}: Loss {\n",
    "                        loss.item()} Accuracy {acc}\"\"\"\n",
    "                )\n",
    "        current_step += 1\n",
    "\n",
    "elapsed_time = time.time() - start_time\n",
    "print(\"Training transformer completed.\")\n",
    "print(f\"Training time: {elapsed_time:.2f} seconds\")"
   ]
  },
  {
   "cell_type": "markdown",
   "metadata": {},
   "source": [
    "### Evaluate the Transformer model\n"
   ]
  },
  {
   "cell_type": "code",
   "execution_count": 14,
   "metadata": {},
   "outputs": [],
   "source": [
    "def evaluate_model(model, dataloader, device):\n",
    "    model.eval()  # Set model to evaluation mode\n",
    "\n",
    "    true_labels = []\n",
    "    predictions = []\n",
    "\n",
    "    with torch.no_grad():  # No need to track gradients\n",
    "        for texts, labels in dataloader:\n",
    "            texts = texts.to(device)\n",
    "            labels = labels.to(device)\n",
    "\n",
    "            outputs = model(texts)\n",
    "            outputs = outputs.squeeze()\n",
    "\n",
    "            probs = torch.sigmoid(outputs)\n",
    "            predicted_labels = probs.round()\n",
    "            true_labels.extend(labels.cpu().numpy())\n",
    "            predictions.extend(predicted_labels.cpu().numpy())\n",
    "\n",
    "    # Calculate accuracy and F1 score\n",
    "    accuracy = accuracy_score(true_labels, predictions)\n",
    "    f1 = f1_score(true_labels, predictions, average=\"binary\")\n",
    "\n",
    "    return accuracy, f1"
   ]
  },
  {
   "cell_type": "code",
   "execution_count": 15,
   "metadata": {},
   "outputs": [],
   "source": [
    "transformer_accuracy, transformer_f1 = evaluate_model(\n",
    "    model=transformer_model, dataloader=test_loader, device=device\n",
    ")"
   ]
  },
  {
   "cell_type": "code",
   "execution_count": 16,
   "metadata": {},
   "outputs": [
    {
     "data": {
      "text/plain": [
       "(0.7868349651999528, 0.7929888876159926)"
      ]
     },
     "execution_count": 16,
     "metadata": {},
     "output_type": "execute_result"
    }
   ],
   "source": [
    "transformer_accuracy, transformer_f1"
   ]
  },
  {
   "cell_type": "code",
   "execution_count": 17,
   "metadata": {},
   "outputs": [],
   "source": [
    "# Save the model\n",
    "model_path = \"transformer_model_weights.pth\"\n",
    "torch.save(transformer_model.state_dict(), model_path)"
   ]
  },
  {
   "cell_type": "code",
   "execution_count": 18,
   "metadata": {},
   "outputs": [
    {
     "data": {
      "text/plain": [
       "0"
      ]
     },
     "execution_count": 18,
     "metadata": {},
     "output_type": "execute_result"
    }
   ],
   "source": [
    "import gc\n",
    "\n",
    "# Clean up the memory\n",
    "del transformer_model\n",
    "# Clear GPU cache\n",
    "if torch.cuda.is_available():\n",
    "    torch.cuda.empty_cache()\n",
    "    torch.cuda.synchronize()\n",
    "gc.collect()  # Explicit garbage collection"
   ]
  },
  {
   "cell_type": "code",
   "execution_count": 28,
   "metadata": {},
   "outputs": [
    {
     "ename": "RuntimeError",
     "evalue": "Error(s) in loading state_dict for EncoderOnlyTransformer:\n\tMissing key(s) in state_dict: \"transformer_encoder.layers.0.self_attn.in_proj_weight\", \"transformer_encoder.layers.0.self_attn.in_proj_bias\", \"transformer_encoder.layers.0.self_attn.out_proj.weight\", \"transformer_encoder.layers.0.self_attn.out_proj.bias\", \"transformer_encoder.layers.0.linear1.weight\", \"transformer_encoder.layers.0.linear1.bias\", \"transformer_encoder.layers.0.linear2.weight\", \"transformer_encoder.layers.0.linear2.bias\", \"transformer_encoder.layers.0.norm1.weight\", \"transformer_encoder.layers.0.norm1.bias\", \"transformer_encoder.layers.0.norm2.weight\", \"transformer_encoder.layers.0.norm2.bias\", \"embedding.weight\". \n\tUnexpected key(s) in state_dict: \"encoder.token_emb.weight\", \"encoder.pos_emb.inv_freq\", \"encoder.reformer.layers.blocks.0.f.net.norm.weight\", \"encoder.reformer.layers.blocks.0.f.net.norm.bias\", \"encoder.reformer.layers.blocks.0.f.net.fn.toqk.weight\", \"encoder.reformer.layers.blocks.0.f.net.fn.tov.weight\", \"encoder.reformer.layers.blocks.0.f.net.fn.to_out.weight\", \"encoder.reformer.layers.blocks.0.f.net.fn.to_out.bias\", \"encoder.reformer.layers.blocks.0.g.net.norm.weight\", \"encoder.reformer.layers.blocks.0.g.net.norm.bias\", \"encoder.reformer.layers.blocks.0.g.net.fn.fn.w1.weight\", \"encoder.reformer.layers.blocks.0.g.net.fn.fn.w1.bias\", \"encoder.reformer.layers.blocks.0.g.net.fn.fn.w2.weight\", \"encoder.reformer.layers.blocks.0.g.net.fn.fn.w2.bias\", \"encoder.reformer.layers.blocks.1.f.net.norm.weight\", \"encoder.reformer.layers.blocks.1.f.net.norm.bias\", \"encoder.reformer.layers.blocks.1.f.net.fn.toqk.weight\", \"encoder.reformer.layers.blocks.1.f.net.fn.tov.weight\", \"encoder.reformer.layers.blocks.1.f.net.fn.to_out.weight\", \"encoder.reformer.layers.blocks.1.f.net.fn.to_out.bias\", \"encoder.reformer.layers.blocks.1.g.net.norm.weight\", \"encoder.reformer.layers.blocks.1.g.net.norm.bias\", \"encoder.reformer.layers.blocks.1.g.net.fn.fn.w1.weight\", \"encoder.reformer.layers.blocks.1.g.net.fn.fn.w1.bias\", \"encoder.reformer.layers.blocks.1.g.net.fn.fn.w2.weight\", \"encoder.reformer.layers.blocks.1.g.net.fn.fn.w2.bias\", \"encoder.reformer.layers.blocks.2.f.net.norm.weight\", \"encoder.reformer.layers.blocks.2.f.net.norm.bias\", \"encoder.reformer.layers.blocks.2.f.net.fn.toqk.weight\", \"encoder.reformer.layers.blocks.2.f.net.fn.tov.weight\", \"encoder.reformer.layers.blocks.2.f.net.fn.to_out.weight\", \"encoder.reformer.layers.blocks.2.f.net.fn.to_out.bias\", \"encoder.reformer.layers.blocks.2.g.net.norm.weight\", \"encoder.reformer.layers.blocks.2.g.net.norm.bias\", \"encoder.reformer.layers.blocks.2.g.net.fn.fn.w1.weight\", \"encoder.reformer.layers.blocks.2.g.net.fn.fn.w1.bias\", \"encoder.reformer.layers.blocks.2.g.net.fn.fn.w2.weight\", \"encoder.reformer.layers.blocks.2.g.net.fn.fn.w2.bias\", \"encoder.reformer.layers.irrev_blocks.0.f.norm.weight\", \"encoder.reformer.layers.irrev_blocks.0.f.norm.bias\", \"encoder.reformer.layers.irrev_blocks.0.f.fn.toqk.weight\", \"encoder.reformer.layers.irrev_blocks.0.f.fn.tov.weight\", \"encoder.reformer.layers.irrev_blocks.0.f.fn.to_out.weight\", \"encoder.reformer.layers.irrev_blocks.0.f.fn.to_out.bias\", \"encoder.reformer.layers.irrev_blocks.0.g.norm.weight\", \"encoder.reformer.layers.irrev_blocks.0.g.norm.bias\", \"encoder.reformer.layers.irrev_blocks.0.g.fn.fn.w1.weight\", \"encoder.reformer.layers.irrev_blocks.0.g.fn.fn.w1.bias\", \"encoder.reformer.layers.irrev_blocks.0.g.fn.fn.w2.weight\", \"encoder.reformer.layers.irrev_blocks.0.g.fn.fn.w2.bias\", \"encoder.reformer.layers.irrev_blocks.1.f.norm.weight\", \"encoder.reformer.layers.irrev_blocks.1.f.norm.bias\", \"encoder.reformer.layers.irrev_blocks.1.f.fn.toqk.weight\", \"encoder.reformer.layers.irrev_blocks.1.f.fn.tov.weight\", \"encoder.reformer.layers.irrev_blocks.1.f.fn.to_out.weight\", \"encoder.reformer.layers.irrev_blocks.1.f.fn.to_out.bias\", \"encoder.reformer.layers.irrev_blocks.1.g.norm.weight\", \"encoder.reformer.layers.irrev_blocks.1.g.norm.bias\", \"encoder.reformer.layers.irrev_blocks.1.g.fn.fn.w1.weight\", \"encoder.reformer.layers.irrev_blocks.1.g.fn.fn.w1.bias\", \"encoder.reformer.layers.irrev_blocks.1.g.fn.fn.w2.weight\", \"encoder.reformer.layers.irrev_blocks.1.g.fn.fn.w2.bias\", \"encoder.reformer.layers.irrev_blocks.2.f.norm.weight\", \"encoder.reformer.layers.irrev_blocks.2.f.norm.bias\", \"encoder.reformer.layers.irrev_blocks.2.f.fn.toqk.weight\", \"encoder.reformer.layers.irrev_blocks.2.f.fn.tov.weight\", \"encoder.reformer.layers.irrev_blocks.2.f.fn.to_out.weight\", \"encoder.reformer.layers.irrev_blocks.2.f.fn.to_out.bias\", \"encoder.reformer.layers.irrev_blocks.2.g.norm.weight\", \"encoder.reformer.layers.irrev_blocks.2.g.norm.bias\", \"encoder.reformer.layers.irrev_blocks.2.g.fn.fn.w1.weight\", \"encoder.reformer.layers.irrev_blocks.2.g.fn.fn.w1.bias\", \"encoder.reformer.layers.irrev_blocks.2.g.fn.fn.w2.weight\", \"encoder.reformer.layers.irrev_blocks.2.g.fn.fn.w2.bias\", \"encoder.norm.weight\", \"encoder.norm.bias\". ",
     "output_type": "error",
     "traceback": [
      "\u001b[0;31m---------------------------------------------------------------------------\u001b[0m",
      "\u001b[0;31mRuntimeError\u001b[0m                              Traceback (most recent call last)",
      "\u001b[1;32m/Users/xiaolongli/Desktop/COMP7404/group_project/sentiment_analysis.ipynb Cell 25\u001b[0m line \u001b[0;36m2\n\u001b[1;32m      <a href='vscode-notebook-cell:/Users/xiaolongli/Desktop/COMP7404/group_project/sentiment_analysis.ipynb#X51sZmlsZQ%3D%3D?line=0'>1</a>\u001b[0m transformer \u001b[39m=\u001b[39m EncoderOnlyTransformer()\n\u001b[0;32m----> <a href='vscode-notebook-cell:/Users/xiaolongli/Desktop/COMP7404/group_project/sentiment_analysis.ipynb#X51sZmlsZQ%3D%3D?line=1'>2</a>\u001b[0m transformer\u001b[39m.\u001b[39;49mload_state_dict(torch\u001b[39m.\u001b[39;49mload(model_path))\n\u001b[1;32m      <a href='vscode-notebook-cell:/Users/xiaolongli/Desktop/COMP7404/group_project/sentiment_analysis.ipynb#X51sZmlsZQ%3D%3D?line=2'>3</a>\u001b[0m transformer\u001b[39m.\u001b[39meval()\n",
      "File \u001b[0;32m~/anaconda3/envs/pytorch/lib/python3.11/site-packages/torch/nn/modules/module.py:2152\u001b[0m, in \u001b[0;36mModule.load_state_dict\u001b[0;34m(self, state_dict, strict, assign)\u001b[0m\n\u001b[1;32m   2147\u001b[0m         error_msgs\u001b[39m.\u001b[39minsert(\n\u001b[1;32m   2148\u001b[0m             \u001b[39m0\u001b[39m, \u001b[39m'\u001b[39m\u001b[39mMissing key(s) in state_dict: \u001b[39m\u001b[39m{}\u001b[39;00m\u001b[39m. \u001b[39m\u001b[39m'\u001b[39m\u001b[39m.\u001b[39mformat(\n\u001b[1;32m   2149\u001b[0m                 \u001b[39m'\u001b[39m\u001b[39m, \u001b[39m\u001b[39m'\u001b[39m\u001b[39m.\u001b[39mjoin(\u001b[39mf\u001b[39m\u001b[39m'\u001b[39m\u001b[39m\"\u001b[39m\u001b[39m{\u001b[39;00mk\u001b[39m}\u001b[39;00m\u001b[39m\"\u001b[39m\u001b[39m'\u001b[39m \u001b[39mfor\u001b[39;00m k \u001b[39min\u001b[39;00m missing_keys)))\n\u001b[1;32m   2151\u001b[0m \u001b[39mif\u001b[39;00m \u001b[39mlen\u001b[39m(error_msgs) \u001b[39m>\u001b[39m \u001b[39m0\u001b[39m:\n\u001b[0;32m-> 2152\u001b[0m     \u001b[39mraise\u001b[39;00m \u001b[39mRuntimeError\u001b[39;00m(\u001b[39m'\u001b[39m\u001b[39mError(s) in loading state_dict for \u001b[39m\u001b[39m{}\u001b[39;00m\u001b[39m:\u001b[39m\u001b[39m\\n\u001b[39;00m\u001b[39m\\t\u001b[39;00m\u001b[39m{}\u001b[39;00m\u001b[39m'\u001b[39m\u001b[39m.\u001b[39mformat(\n\u001b[1;32m   2153\u001b[0m                        \u001b[39mself\u001b[39m\u001b[39m.\u001b[39m\u001b[39m__class__\u001b[39m\u001b[39m.\u001b[39m\u001b[39m__name__\u001b[39m, \u001b[39m\"\u001b[39m\u001b[39m\\n\u001b[39;00m\u001b[39m\\t\u001b[39;00m\u001b[39m\"\u001b[39m\u001b[39m.\u001b[39mjoin(error_msgs)))\n\u001b[1;32m   2154\u001b[0m \u001b[39mreturn\u001b[39;00m _IncompatibleKeys(missing_keys, unexpected_keys)\n",
      "\u001b[0;31mRuntimeError\u001b[0m: Error(s) in loading state_dict for EncoderOnlyTransformer:\n\tMissing key(s) in state_dict: \"transformer_encoder.layers.0.self_attn.in_proj_weight\", \"transformer_encoder.layers.0.self_attn.in_proj_bias\", \"transformer_encoder.layers.0.self_attn.out_proj.weight\", \"transformer_encoder.layers.0.self_attn.out_proj.bias\", \"transformer_encoder.layers.0.linear1.weight\", \"transformer_encoder.layers.0.linear1.bias\", \"transformer_encoder.layers.0.linear2.weight\", \"transformer_encoder.layers.0.linear2.bias\", \"transformer_encoder.layers.0.norm1.weight\", \"transformer_encoder.layers.0.norm1.bias\", \"transformer_encoder.layers.0.norm2.weight\", \"transformer_encoder.layers.0.norm2.bias\", \"embedding.weight\". \n\tUnexpected key(s) in state_dict: \"encoder.token_emb.weight\", \"encoder.pos_emb.inv_freq\", \"encoder.reformer.layers.blocks.0.f.net.norm.weight\", \"encoder.reformer.layers.blocks.0.f.net.norm.bias\", \"encoder.reformer.layers.blocks.0.f.net.fn.toqk.weight\", \"encoder.reformer.layers.blocks.0.f.net.fn.tov.weight\", \"encoder.reformer.layers.blocks.0.f.net.fn.to_out.weight\", \"encoder.reformer.layers.blocks.0.f.net.fn.to_out.bias\", \"encoder.reformer.layers.blocks.0.g.net.norm.weight\", \"encoder.reformer.layers.blocks.0.g.net.norm.bias\", \"encoder.reformer.layers.blocks.0.g.net.fn.fn.w1.weight\", \"encoder.reformer.layers.blocks.0.g.net.fn.fn.w1.bias\", \"encoder.reformer.layers.blocks.0.g.net.fn.fn.w2.weight\", \"encoder.reformer.layers.blocks.0.g.net.fn.fn.w2.bias\", \"encoder.reformer.layers.blocks.1.f.net.norm.weight\", \"encoder.reformer.layers.blocks.1.f.net.norm.bias\", \"encoder.reformer.layers.blocks.1.f.net.fn.toqk.weight\", \"encoder.reformer.layers.blocks.1.f.net.fn.tov.weight\", \"encoder.reformer.layers.blocks.1.f.net.fn.to_out.weight\", \"encoder.reformer.layers.blocks.1.f.net.fn.to_out.bias\", \"encoder.reformer.layers.blocks.1.g.net.norm.weight\", \"encoder.reformer.layers.blocks.1.g.net.norm.bias\", \"encoder.reformer.layers.blocks.1.g.net.fn.fn.w1.weight\", \"encoder.reformer.layers.blocks.1.g.net.fn.fn.w1.bias\", \"encoder.reformer.layers.blocks.1.g.net.fn.fn.w2.weight\", \"encoder.reformer.layers.blocks.1.g.net.fn.fn.w2.bias\", \"encoder.reformer.layers.blocks.2.f.net.norm.weight\", \"encoder.reformer.layers.blocks.2.f.net.norm.bias\", \"encoder.reformer.layers.blocks.2.f.net.fn.toqk.weight\", \"encoder.reformer.layers.blocks.2.f.net.fn.tov.weight\", \"encoder.reformer.layers.blocks.2.f.net.fn.to_out.weight\", \"encoder.reformer.layers.blocks.2.f.net.fn.to_out.bias\", \"encoder.reformer.layers.blocks.2.g.net.norm.weight\", \"encoder.reformer.layers.blocks.2.g.net.norm.bias\", \"encoder.reformer.layers.blocks.2.g.net.fn.fn.w1.weight\", \"encoder.reformer.layers.blocks.2.g.net.fn.fn.w1.bias\", \"encoder.reformer.layers.blocks.2.g.net.fn.fn.w2.weight\", \"encoder.reformer.layers.blocks.2.g.net.fn.fn.w2.bias\", \"encoder.reformer.layers.irrev_blocks.0.f.norm.weight\", \"encoder.reformer.layers.irrev_blocks.0.f.norm.bias\", \"encoder.reformer.layers.irrev_blocks.0.f.fn.toqk.weight\", \"encoder.reformer.layers.irrev_blocks.0.f.fn.tov.weight\", \"encoder.reformer.layers.irrev_blocks.0.f.fn.to_out.weight\", \"encoder.reformer.layers.irrev_blocks.0.f.fn.to_out.bias\", \"encoder.reformer.layers.irrev_blocks.0.g.norm.weight\", \"encoder.reformer.layers.irrev_blocks.0.g.norm.bias\", \"encoder.reformer.layers.irrev_blocks.0.g.fn.fn.w1.weight\", \"encoder.reformer.layers.irrev_blocks.0.g.fn.fn.w1.bias\", \"encoder.reformer.layers.irrev_blocks.0.g.fn.fn.w2.weight\", \"encoder.reformer.layers.irrev_blocks.0.g.fn.fn.w2.bias\", \"encoder.reformer.layers.irrev_blocks.1.f.norm.weight\", \"encoder.reformer.layers.irrev_blocks.1.f.norm.bias\", \"encoder.reformer.layers.irrev_blocks.1.f.fn.toqk.weight\", \"encoder.reformer.layers.irrev_blocks.1.f.fn.tov.weight\", \"encoder.reformer.layers.irrev_blocks.1.f.fn.to_out.weight\", \"encoder.reformer.layers.irrev_blocks.1.f.fn.to_out.bias\", \"encoder.reformer.layers.irrev_blocks.1.g.norm.weight\", \"encoder.reformer.layers.irrev_blocks.1.g.norm.bias\", \"encoder.reformer.layers.irrev_blocks.1.g.fn.fn.w1.weight\", \"encoder.reformer.layers.irrev_blocks.1.g.fn.fn.w1.bias\", \"encoder.reformer.layers.irrev_blocks.1.g.fn.fn.w2.weight\", \"encoder.reformer.layers.irrev_blocks.1.g.fn.fn.w2.bias\", \"encoder.reformer.layers.irrev_blocks.2.f.norm.weight\", \"encoder.reformer.layers.irrev_blocks.2.f.norm.bias\", \"encoder.reformer.layers.irrev_blocks.2.f.fn.toqk.weight\", \"encoder.reformer.layers.irrev_blocks.2.f.fn.tov.weight\", \"encoder.reformer.layers.irrev_blocks.2.f.fn.to_out.weight\", \"encoder.reformer.layers.irrev_blocks.2.f.fn.to_out.bias\", \"encoder.reformer.layers.irrev_blocks.2.g.norm.weight\", \"encoder.reformer.layers.irrev_blocks.2.g.norm.bias\", \"encoder.reformer.layers.irrev_blocks.2.g.fn.fn.w1.weight\", \"encoder.reformer.layers.irrev_blocks.2.g.fn.fn.w1.bias\", \"encoder.reformer.layers.irrev_blocks.2.g.fn.fn.w2.weight\", \"encoder.reformer.layers.irrev_blocks.2.g.fn.fn.w2.bias\", \"encoder.norm.weight\", \"encoder.norm.bias\". "
     ]
    }
   ],
   "source": [
    "transformer = EncoderOnlyTransformer()\n",
    "transformer.load_state_dict(torch.load(model_path))\n",
    "transformer.eval()"
   ]
  },
  {
   "cell_type": "markdown",
   "metadata": {},
   "source": [
    "## Build the Reformer\n"
   ]
  },
  {
   "cell_type": "code",
   "execution_count": 19,
   "metadata": {},
   "outputs": [],
   "source": [
    "class ReformerForClassification(nn.Module):\n",
    "    def __init__(self, num_tokens, emb_dim, dim, depth, heads, max_seq_len):\n",
    "        super(ReformerForClassification, self).__init__()\n",
    "        self.encoder = ReformerLM(\n",
    "            num_tokens=num_tokens,\n",
    "            emb_dim=emb_dim,\n",
    "            dim=dim,\n",
    "            depth=depth,\n",
    "            heads=heads,\n",
    "            max_seq_len=max_seq_len,\n",
    "            fixed_position_emb=True,\n",
    "            return_embeddings=True,\n",
    "        )\n",
    "\n",
    "        # Classification head\n",
    "        self.dropout = nn.Dropout(0.2)\n",
    "        self.classifier = nn.Linear(dim, 1)\n",
    "\n",
    "    def forward(self, x):\n",
    "        # Encoder processes the input\n",
    "        encoded_output = self.encoder(x)\n",
    "        encoded_output = self.dropout(encoded_output)\n",
    "        encoded_output = encoded_output.max(dim=1)[0]\n",
    "        output = self.classifier(encoded_output)\n",
    "\n",
    "        return output"
   ]
  },
  {
   "cell_type": "markdown",
   "metadata": {},
   "source": [
    "### Train the Reformer model\n"
   ]
  },
  {
   "cell_type": "code",
   "execution_count": 20,
   "metadata": {},
   "outputs": [],
   "source": [
    "reformer = ReformerForClassification(\n",
    "    num_tokens=NUM_TOKENS,\n",
    "    emb_dim=EMEBED_DIM,\n",
    "    dim=EMEBED_DIM,\n",
    "    depth=NUM_ENCODER_LAYERS,\n",
    "    heads=NUM_HEADS,\n",
    "    max_seq_len=seq_length,\n",
    ").to(device)"
   ]
  },
  {
   "cell_type": "code",
   "execution_count": 21,
   "metadata": {},
   "outputs": [
    {
     "name": "stdout",
     "output_type": "stream",
     "text": [
      "27,946,241 training parameters.\n",
      "\n"
     ]
    }
   ],
   "source": [
    "total_trainable_params = sum(\n",
    "    p.numel() for p in reformer.parameters() if p.requires_grad\n",
    ")\n",
    "print(f\"{total_trainable_params:,} training parameters.\\n\")"
   ]
  },
  {
   "cell_type": "code",
   "execution_count": 22,
   "metadata": {},
   "outputs": [
    {
     "name": "stderr",
     "output_type": "stream",
     "text": [
      "  0%|          | 0/6 [00:00<?, ?it/s]"
     ]
    },
    {
     "name": "stdout",
     "output_type": "stream",
     "text": [
      "Step 100: Loss 0.6915448307991028 Accuracy 0.5625\n",
      "Step 200: Loss 0.6908938884735107 Accuracy 0.5\n",
      "Step 300: Loss 0.6910299062728882 Accuracy 0.5\n",
      "Step 400: Loss 0.7083938121795654 Accuracy 0.375\n",
      "Step 500: Loss 0.6128970384597778 Accuracy 0.75\n"
     ]
    },
    {
     "name": "stderr",
     "output_type": "stream",
     "text": [
      " 17%|█▋        | 1/6 [04:42<23:33, 282.69s/it]"
     ]
    },
    {
     "name": "stdout",
     "output_type": "stream",
     "text": [
      "Step 600: Loss 0.6875300407409668 Accuracy 0.46875\n",
      "Step 700: Loss 0.6411499977111816 Accuracy 0.65625\n",
      "Step 800: Loss 0.6354114413261414 Accuracy 0.6875\n",
      "Step 900: Loss 0.6034781336784363 Accuracy 0.75\n",
      "Step 1000: Loss 0.6309852004051208 Accuracy 0.625\n"
     ]
    },
    {
     "name": "stderr",
     "output_type": "stream",
     "text": [
      " 33%|███▎      | 2/6 [09:26<18:54, 283.51s/it]"
     ]
    },
    {
     "name": "stdout",
     "output_type": "stream",
     "text": [
      "Step 1100: Loss 0.6261836886405945 Accuracy 0.71875\n",
      "Step 1200: Loss 0.6302128434181213 Accuracy 0.625\n",
      "Step 1300: Loss 0.6307201385498047 Accuracy 0.6875\n",
      "Step 1400: Loss 0.6752927303314209 Accuracy 0.5625\n",
      "Step 1500: Loss 0.6355257034301758 Accuracy 0.625\n"
     ]
    },
    {
     "name": "stderr",
     "output_type": "stream",
     "text": [
      " 50%|█████     | 3/6 [14:10<14:10, 283.41s/it]"
     ]
    },
    {
     "name": "stdout",
     "output_type": "stream",
     "text": [
      "Step 1600: Loss 0.5400670766830444 Accuracy 0.8125\n",
      "Step 1700: Loss 0.553629457950592 Accuracy 0.78125\n",
      "Step 1800: Loss 0.6235929727554321 Accuracy 0.75\n",
      "Step 1900: Loss 0.5749286413192749 Accuracy 0.6875\n",
      "Step 2000: Loss 0.5631066560745239 Accuracy 0.75\n"
     ]
    },
    {
     "name": "stderr",
     "output_type": "stream",
     "text": [
      " 67%|██████▋   | 4/6 [18:52<09:25, 282.85s/it]"
     ]
    },
    {
     "name": "stdout",
     "output_type": "stream",
     "text": [
      "Step 2100: Loss 0.6084562540054321 Accuracy 0.625\n",
      "Step 2200: Loss 0.5805224776268005 Accuracy 0.75\n",
      "Step 2300: Loss 0.5794855356216431 Accuracy 0.75\n",
      "Step 2400: Loss 0.49851083755493164 Accuracy 0.875\n",
      "Step 2500: Loss 0.47883057594299316 Accuracy 0.9375\n"
     ]
    },
    {
     "name": "stderr",
     "output_type": "stream",
     "text": [
      " 83%|████████▎ | 5/6 [23:33<04:42, 282.46s/it]"
     ]
    },
    {
     "name": "stdout",
     "output_type": "stream",
     "text": [
      "Step 2600: Loss 0.432800829410553 Accuracy 1.0\n",
      "Step 2700: Loss 0.5317515134811401 Accuracy 0.84375\n",
      "Step 2800: Loss 0.4673944413661957 Accuracy 0.84375\n",
      "Step 2900: Loss 0.5047050714492798 Accuracy 0.8125\n",
      "Step 3000: Loss 0.49843573570251465 Accuracy 0.75\n",
      "Step 3100: Loss 0.4497326612472534 Accuracy 0.84375\n"
     ]
    },
    {
     "name": "stderr",
     "output_type": "stream",
     "text": [
      "100%|██████████| 6/6 [28:19<00:00, 283.27s/it]"
     ]
    },
    {
     "name": "stdout",
     "output_type": "stream",
     "text": [
      "Training Reformer completed.\n",
      "Training time: 1699.65 seconds\n"
     ]
    },
    {
     "name": "stderr",
     "output_type": "stream",
     "text": [
      "\n"
     ]
    }
   ],
   "source": [
    "optimizer = optim.Adam(reformer.parameters(), lr=0.00001)\n",
    "reformer_train_loss = []\n",
    "reformer_train_acc = []\n",
    "# for current_step in tqdm.tqdm(range(total_steps)):\n",
    "current_step = 0\n",
    "start_time = time.time()\n",
    "for epochs in tqdm.tqdm(range(TRAIN_EPOCHS)):\n",
    "    for reviews, label in train_loader:\n",
    "        reviews = reviews.to(device)\n",
    "        label = label.to(device)\n",
    "        optimizer.zero_grad()\n",
    "        output = reformer(reviews)\n",
    "        output = output.squeeze()\n",
    "        # print(output.size(), label.size())\n",
    "        label = label.float()\n",
    "        loss = criterion(output, label)\n",
    "        loss.backward()\n",
    "        optimizer.step()\n",
    "        current_step += 1\n",
    "        if current_step % 10 == 0:\n",
    "            acc = calculate_accuracy(output, label)\n",
    "            reformer_train_loss.append(loss.item())\n",
    "            reformer_train_loss.append(acc)\n",
    "            if current_step % 100 == 0:\n",
    "                print(\n",
    "                    f\"\"\"Step {current_step}: Loss {\n",
    "                        loss.item()} Accuracy {acc}\"\"\"\n",
    "                )\n",
    "\n",
    "elapsed_time = time.time() - start_time\n",
    "print(\"Training Reformer completed.\")\n",
    "print(f\"Training time: {elapsed_time:.2f} seconds\")"
   ]
  },
  {
   "cell_type": "markdown",
   "metadata": {},
   "source": [
    "### Evaluate the Reformer model\n"
   ]
  },
  {
   "cell_type": "code",
   "execution_count": 23,
   "metadata": {},
   "outputs": [],
   "source": [
    "reformer_accuracy, reformer_f1 = evaluate_model(\n",
    "    model=reformer, dataloader=test_loader, device=device\n",
    ")"
   ]
  },
  {
   "cell_type": "code",
   "execution_count": 24,
   "metadata": {},
   "outputs": [
    {
     "data": {
      "text/plain": [
       "(0.770909519877315, 0.775776469229881)"
      ]
     },
     "execution_count": 24,
     "metadata": {},
     "output_type": "execute_result"
    }
   ],
   "source": [
    "reformer_accuracy, reformer_f1"
   ]
  },
  {
   "cell_type": "code",
   "execution_count": 25,
   "metadata": {},
   "outputs": [],
   "source": [
    "# Save the model\n",
    "model_path = \"reformer_model_weights.pth\"\n",
    "torch.save(reformer.state_dict(), model_path)"
   ]
  },
  {
   "cell_type": "markdown",
   "metadata": {},
   "source": [
    "## Plot the results\n"
   ]
  },
  {
   "cell_type": "code",
   "execution_count": 27,
   "metadata": {},
   "outputs": [
    {
     "data": {
      "image/png": "[encoded data removed]",
      "text/plain": [
       "<Figure size 1400x600 with 2 Axes>"
      ]
     },
     "metadata": {},
     "output_type": "display_data"
    }
   ],
   "source": [
    "sns.set(style=\"whitegrid\", palette=\"muted\", font_scale=1.2)\n",
    "colors = [\"#2a9d8f\", \"#e76f51\"]\n",
    "fig, axes = plt.subplots(1, 2, figsize=(14, 6), sharey=True)\n",
    "# Plotting for Transformer\n",
    "sns.lineplot(\n",
    "    ax=axes[0],\n",
    "    x=np.arange(len(transformer_train_loss)),\n",
    "    y=transformer_train_loss,\n",
    "    label=\"Transformer\",\n",
    "    linewidth=2.5,\n",
    "    color=colors[0],\n",
    ")\n",
    "axes[0].set_title(\"Transformer Training Loss\")\n",
    "axes[0].set_xlabel(\"Training Steps\")\n",
    "axes[0].set_ylabel(\"Loss\")\n",
    "\n",
    "# Plotting for Reformer\n",
    "sns.lineplot(\n",
    "    ax=axes[1],\n",
    "    x=np.arange(len(reformer_train_loss)),\n",
    "    y=reformer_train_loss,\n",
    "    label=\"Reformer\",\n",
    "    linewidth=2.5,\n",
    "    color=colors[1],\n",
    ")\n",
    "axes[1].set_title(\"Reformer Training Loss\")\n",
    "axes[1].set_xlabel(\"Training Steps\")\n",
    "axes[1].set_ylabel(\"Loss\")\n",
    "\n",
    "axes[0].legend(frameon=True, fontsize=\"medium\", loc=\"upper right\", title=\"Model Type\")\n",
    "axes[1].legend(frameon=True, fontsize=\"medium\", loc=\"upper right\", title=\"Model Type\")\n",
    "\n",
    "plt.tight_layout()\n",
    "plt.savefig(\"training_loss_comparison.png\", format=\"png\", dpi=300)\n",
    "plt.show()"
   ]
  }
 ],
 "metadata": {
  "kernelspec": {
   "display_name": "pytorch",
   "language": "python",
   "name": "python3"
  },
  "language_info": {
   "codemirror_mode": {
    "name": "ipython",
    "version": 3
   },
   "file_extension": ".py",
   "mimetype": "text/x-python",
   "name": "python",
   "nbconvert_exporter": "python",
   "pygments_lexer": "ipython3",
   "version": "3.11.5"
  },
  "orig_nbformat": 4
 },
 "nbformat": 4,
 "nbformat_minor": 2
}
