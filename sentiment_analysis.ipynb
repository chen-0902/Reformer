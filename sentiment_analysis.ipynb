{
 "cells": [
  {
   "cell_type": "markdown",
   "metadata": {},
   "source": [
    "`pip install reformer_pytorch`\n"
   ]
  },
  {
   "cell_type": "markdown",
   "metadata": {},
   "source": [
    "### References\n",
    "\n",
    "- Text classification with the torchtext library: https://pytorch.org/tutorials/beginner/text_sentiment_ngrams_tutorial.html\n",
    "- reformer-pytorch: https://github.com/lucidrains/reformer-pytorch?tab=readme-ov-file\n",
    "- IMDB dataset: http://ai.stanford.edu/~amaas/data/sentiment/\n"
   ]
  },
  {
   "cell_type": "code",
   "execution_count": 1,
   "metadata": {},
   "outputs": [],
   "source": [
    "import torch\n",
    "import torch.nn as nn\n",
    "import torch.optim as optim\n",
    "from torch.utils.data import Dataset\n",
    "from torch.utils.data import DataLoader\n",
    "from torchtext.datasets import IMDB\n",
    "from torchtext.data.utils import get_tokenizer\n",
    "from torchtext.vocab import build_vocab_from_iterator\n",
    "from reformer_pytorch import ReformerLM\n",
    "from sklearn.metrics import accuracy_score, f1_score\n",
    "import tqdm as tqdm\n",
    "import time"
   ]
  },
  {
   "cell_type": "code",
   "execution_count": 2,
   "metadata": {},
   "outputs": [],
   "source": [
    "if torch.cuda.is_available():\n",
    "    device = torch.device(\"cuda\")\n",
    "elif torch.backends.mps.is_available():\n",
    "    device = torch.device(\"mps\")\n",
    "else:\n",
    "    device = torch.device(\"cpu\")"
   ]
  },
  {
   "cell_type": "markdown",
   "metadata": {},
   "source": [
    "## Build the dataset\n",
    "\n",
    "Use the IMDB dataset for sentiment analysis. The dataset is already available in the `torchtext` library.\n",
    "\n",
    "- label = 0 means negative sentiment\n",
    "- label = 1 means positive sentiment.\n"
   ]
  },
  {
   "cell_type": "code",
   "execution_count": 3,
   "metadata": {},
   "outputs": [
    {
     "data": {
      "text/plain": [
       "{1: 12500, 2: 12500}"
      ]
     },
     "execution_count": 3,
     "metadata": {},
     "output_type": "execute_result"
    }
   ],
   "source": [
    "train_iter, test_iter = IMDB(split=(\"train\", \"test\"))\n",
    "\n",
    "labels = {}\n",
    "for label, line in test_iter:\n",
    "    # print(label, line)\n",
    "    # break\n",
    "    labels[label] = labels.get(label, 0) + 1\n",
    "labels"
   ]
  },
  {
   "cell_type": "code",
   "execution_count": 4,
   "metadata": {},
   "outputs": [],
   "source": [
    "# Basic tokenizer for English\n",
    "tokenizer = get_tokenizer(\"basic_english\")\n",
    "\n",
    "\n",
    "# Build vocabulary\n",
    "def yield_tokens(data_iter):\n",
    "    for _, text in data_iter:\n",
    "        yield tokenizer(text)\n",
    "\n",
    "\n",
    "# Reload the training iterator for building vocab\n",
    "train_iter, _ = IMDB(split=(\"train\", \"test\"))\n",
    "vocab = build_vocab_from_iterator(yield_tokens(\n",
    "    train_iter), specials=[\"<unk>\", \"<pad>\"])\n",
    "vocab.set_default_index(\n",
    "    vocab[\"<unk>\"]\n",
    ")  # Set default index for out-of-vocabulary tokens\n",
    "NUM_TOKENS = len(vocab)"
   ]
  },
  {
   "cell_type": "code",
   "execution_count": 5,
   "metadata": {},
   "outputs": [],
   "source": [
    "def text_pipeline(x):\n",
    "    return vocab(tokenizer(x))\n",
    "\n",
    "\n",
    "def label_pipeline(x):\n",
    "    # the original dataset\n",
    "    # 1 for negative, 2 for positive\n",
    "    return x - 1\n",
    "\n",
    "\n",
    "class IMDBDataset(Dataset):\n",
    "    def __init__(self, split):\n",
    "        self.examples = list()\n",
    "        self.text_pipeline = text_pipeline\n",
    "        self.label_pipeline = label_pipeline\n",
    "        self.avg_length = self.calculate_avg_length()\n",
    "        # to avoid too long padding\n",
    "        for label, text in IMDB(split=split):\n",
    "            tokenized_text = tokenizer(text)\n",
    "            if len(tokenized_text) <= self.avg_length:\n",
    "                self.examples.append((label, text))\n",
    "\n",
    "    def __len__(self):\n",
    "        return len(self.examples)\n",
    "\n",
    "    def __getitem__(self, idx):\n",
    "        label, text = self.examples[idx]\n",
    "        label = self.label_pipeline(label)\n",
    "        text = torch.tensor(self.text_pipeline(text), dtype=torch.int64)\n",
    "        return text, label\n",
    "\n",
    "    def calculate_avg_length(self):\n",
    "        lengths = [len(tokenizer(text)) for _, text in IMDB(split=\"train\")]\n",
    "        return sum(lengths) / len(lengths)\n",
    "\n",
    "\n",
    "def collate_batch(batch):\n",
    "    label_list, text_list = [], []\n",
    "    max_len = 256  # Define the maximum sequence length\n",
    "\n",
    "    for _text, _label in batch:\n",
    "        label_list.append(_label)\n",
    "        # Ensure _text is a tensor\n",
    "        if len(_text) > max_len:\n",
    "            # Truncate if longer than max_len\n",
    "            _text = _text[:max_len]\n",
    "        elif len(_text) < max_len:\n",
    "            # Pad if shorter than max_len\n",
    "            padding_length = max_len - len(_text)\n",
    "            padding = torch.full(\n",
    "                (padding_length,), vocab[\"<pad>\"], dtype=torch.int64\n",
    "            )  # Ensure vocab['<pad>'] is defined and consistent with your data\n",
    "            _text = torch.cat((_text, padding), dim=0)\n",
    "\n",
    "        text_list.append(_text)\n",
    "\n",
    "    # Stack all texts and labels into tensors\n",
    "    texts = torch.stack(text_list, dim=0)\n",
    "    labels = torch.tensor(label_list, dtype=torch.int64)\n",
    "\n",
    "    return texts, labels"
   ]
  },
  {
   "cell_type": "code",
   "execution_count": 6,
   "metadata": {},
   "outputs": [],
   "source": [
    "# Create DataLoader\n",
    "train_dataset = IMDBDataset(\"train\")\n",
    "train_loader = DataLoader(\n",
    "    train_dataset, batch_size=32, shuffle=True, collate_fn=collate_batch\n",
    ")\n",
    "test_dataset = IMDBDataset(\"test\")\n",
    "test_loader = DataLoader(\n",
    "    test_dataset, batch_size=32, shuffle=True, collate_fn=collate_batch\n",
    ")"
   ]
  },
  {
   "cell_type": "code",
   "execution_count": 7,
   "metadata": {},
   "outputs": [
    {
     "name": "stdout",
     "output_type": "stream",
     "text": [
      "Text batch shape: torch.Size([32, 256])\n",
      "Label batch shape: torch.Size([32])\n"
     ]
    }
   ],
   "source": [
    "for text, label in train_loader:\n",
    "    print(\"Text batch shape:\", text.size())\n",
    "    # print(text)\n",
    "    print(\"Label batch shape:\", label.size())\n",
    "    # print(label)\n",
    "    break"
   ]
  },
  {
   "cell_type": "code",
   "execution_count": 8,
   "metadata": {},
   "outputs": [],
   "source": [
    "NUM_CLASSES = 2\n",
    "NUM_ENCODER_LAYERS = 3\n",
    "NUM_HEADS = 4\n",
    "EMEBED_DIM = 256\n",
    "TRAIN_EPOCHS = 6\n",
    "seq_length = 256"
   ]
  },
  {
   "cell_type": "markdown",
   "metadata": {},
   "source": [
    "## Transformer\n"
   ]
  },
  {
   "cell_type": "code",
   "execution_count": 9,
   "metadata": {},
   "outputs": [],
   "source": [
    "class EncoderOnlyTransformer(nn.Module):\n",
    "    def __init__(self, d_model=256, nhead=4, num_encoder_layers=1, dim_feedforward=256):\n",
    "        super(EncoderOnlyTransformer, self).__init__()\n",
    "        self.transformer_encoder = nn.TransformerEncoder(\n",
    "            nn.TransformerEncoderLayer(\n",
    "                d_model=d_model,\n",
    "                nhead=nhead,\n",
    "                dim_feedforward=dim_feedforward,\n",
    "                batch_first=True,\n",
    "            ),\n",
    "            num_layers=num_encoder_layers,\n",
    "        )\n",
    "        self.dropout = nn.Dropout(0.2)\n",
    "        self.embedding = nn.Embedding(NUM_TOKENS, d_model)\n",
    "        self.classifier = nn.Linear(d_model, 1)\n",
    "\n",
    "    def forward(self, src):\n",
    "        src = self.embedding(src)\n",
    "        encoded_output = self.transformer_encoder(src)\n",
    "        # encoded_output = encoded_output[:, -1, :]\n",
    "        encoded_output = self.dropout(encoded_output)\n",
    "        encoded_output = encoded_output.max(dim=1)[0]\n",
    "        output = self.classifier(encoded_output)\n",
    "        return output\n",
    "\n",
    "\n",
    "transformer_model = EncoderOnlyTransformer(\n",
    "    d_model=EMEBED_DIM,\n",
    "    nhead=NUM_HEADS,\n",
    "    num_encoder_layers=NUM_ENCODER_LAYERS,\n",
    "    dim_feedforward=EMEBED_DIM,\n",
    ").to(device)"
   ]
  },
  {
   "cell_type": "code",
   "execution_count": 10,
   "metadata": {},
   "outputs": [
    {
     "name": "stdout",
     "output_type": "stream",
     "text": [
      "26,962,689 training parameters.\n",
      "\n"
     ]
    }
   ],
   "source": [
    "total_trainable_params = sum(\n",
    "    p.numel() for p in transformer_model.parameters() if p.requires_grad\n",
    ")\n",
    "print(f\"{total_trainable_params:,} training parameters.\\n\")"
   ]
  },
  {
   "cell_type": "markdown",
   "metadata": {},
   "source": [
    "### Train the Transformer model\n"
   ]
  },
  {
   "cell_type": "code",
   "execution_count": 11,
   "metadata": {},
   "outputs": [],
   "source": [
    "# use cross entropy loss for classification task\n",
    "criterion = nn.BCEWithLogitsLoss()\n",
    "optimizer = optim.Adam(transformer_model.parameters(), lr=0.00001)"
   ]
  },
  {
   "cell_type": "code",
   "execution_count": 12,
   "metadata": {},
   "outputs": [],
   "source": [
    "def calculate_accuracy(output, y_true):\n",
    "    y_pred = torch.sigmoid(output).round()\n",
    "    return accuracy_score(y_true.detach().cpu().numpy(), y_pred.detach().cpu().numpy())"
   ]
  },
  {
   "cell_type": "code",
   "execution_count": 13,
   "metadata": {},
   "outputs": [
    {
     "name": "stderr",
     "output_type": "stream",
     "text": [
      "  0%|          | 0/6 [00:00<?, ?it/s]"
     ]
    },
    {
     "name": "stdout",
     "output_type": "stream",
     "text": [
      "Step 0: Loss 0.76800936460495 Accuracy 0.34375\n",
      "Step 100: Loss 0.6544814109802246 Accuracy 0.75\n",
      "Step 200: Loss 0.6441060900688171 Accuracy 0.65625\n",
      "Step 300: Loss 0.6706139445304871 Accuracy 0.53125\n",
      "Step 400: Loss 0.6844937205314636 Accuracy 0.59375\n",
      "Step 500: Loss 0.6601665019989014 Accuracy 0.625\n"
     ]
    },
    {
     "name": "stderr",
     "output_type": "stream",
     "text": [
      " 17%|█▋        | 1/6 [00:46<03:54, 46.88s/it]"
     ]
    },
    {
     "name": "stdout",
     "output_type": "stream",
     "text": [
      "Step 600: Loss 0.6455370187759399 Accuracy 0.625\n",
      "Step 700: Loss 0.6144317388534546 Accuracy 0.6875\n",
      "Step 800: Loss 0.6474875211715698 Accuracy 0.65625\n",
      "Step 900: Loss 0.5639612674713135 Accuracy 0.84375\n",
      "Step 1000: Loss 0.617080807685852 Accuracy 0.71875\n"
     ]
    },
    {
     "name": "stderr",
     "output_type": "stream",
     "text": [
      " 33%|███▎      | 2/6 [01:32<03:05, 46.33s/it]"
     ]
    },
    {
     "name": "stdout",
     "output_type": "stream",
     "text": [
      "Step 1100: Loss 0.6272757053375244 Accuracy 0.625\n",
      "Step 1200: Loss 0.5458016395568848 Accuracy 0.78125\n",
      "Step 1300: Loss 0.5593353509902954 Accuracy 0.75\n",
      "Step 1400: Loss 0.499389111995697 Accuracy 0.90625\n",
      "Step 1500: Loss 0.5780198574066162 Accuracy 0.78125\n"
     ]
    },
    {
     "name": "stderr",
     "output_type": "stream",
     "text": [
      " 50%|█████     | 3/6 [02:19<02:19, 46.35s/it]"
     ]
    },
    {
     "name": "stdout",
     "output_type": "stream",
     "text": [
      "Step 1600: Loss 0.5259666442871094 Accuracy 0.71875\n",
      "Step 1700: Loss 0.4879053831100464 Accuracy 0.8125\n",
      "Step 1800: Loss 0.501115083694458 Accuracy 0.875\n",
      "Step 1900: Loss 0.47061026096343994 Accuracy 0.75\n",
      "Step 2000: Loss 0.6498312950134277 Accuracy 0.59375\n"
     ]
    },
    {
     "name": "stderr",
     "output_type": "stream",
     "text": [
      " 67%|██████▋   | 4/6 [03:05<01:32, 46.43s/it]"
     ]
    },
    {
     "name": "stdout",
     "output_type": "stream",
     "text": [
      "Step 2100: Loss 0.47904568910598755 Accuracy 0.71875\n",
      "Step 2200: Loss 0.37584495544433594 Accuracy 0.90625\n",
      "Step 2300: Loss 0.587542712688446 Accuracy 0.6875\n",
      "Step 2400: Loss 0.46991902589797974 Accuracy 0.84375\n",
      "Step 2500: Loss 0.4867269992828369 Accuracy 0.84375\n"
     ]
    },
    {
     "name": "stderr",
     "output_type": "stream",
     "text": [
      " 83%|████████▎ | 5/6 [03:52<00:46, 46.46s/it]"
     ]
    },
    {
     "name": "stdout",
     "output_type": "stream",
     "text": [
      "Step 2600: Loss 0.531295895576477 Accuracy 0.8125\n",
      "Step 2700: Loss 0.418088436126709 Accuracy 0.84375\n",
      "Step 2800: Loss 0.47714537382125854 Accuracy 0.75\n",
      "Step 2900: Loss 0.43789634108543396 Accuracy 0.8125\n",
      "Step 3000: Loss 0.4189438819885254 Accuracy 0.84375\n",
      "Step 3100: Loss 0.5126327872276306 Accuracy 0.71875\n"
     ]
    },
    {
     "name": "stderr",
     "output_type": "stream",
     "text": [
      "100%|██████████| 6/6 [04:38<00:00, 46.48s/it]"
     ]
    },
    {
     "name": "stdout",
     "output_type": "stream",
     "text": [
      "Training transformer completed.\n",
      "Training time: 278.91 seconds\n"
     ]
    },
    {
     "name": "stderr",
     "output_type": "stream",
     "text": [
      "\n"
     ]
    }
   ],
   "source": [
    "# Training Loop\n",
    "transformer_model.train()\n",
    "start_time = time.time()\n",
    "transformer_train_loss = []\n",
    "transformer_train_acc = []\n",
    "current_step = 0\n",
    "for epochs in tqdm.tqdm(range(TRAIN_EPOCHS)):\n",
    "    for reviews, label in train_loader:\n",
    "        reviews = reviews.to(device)\n",
    "        label = label.to(device)\n",
    "        optimizer.zero_grad()\n",
    "        output = transformer_model(reviews)\n",
    "        output = output.squeeze()\n",
    "        label = label.float()\n",
    "        loss = criterion(output, label)\n",
    "        loss.backward()\n",
    "        optimizer.step()\n",
    "        if current_step % 10 == 0:\n",
    "            acc = calculate_accuracy(output, label)\n",
    "            transformer_train_loss.append(loss.item())\n",
    "            transformer_train_acc.append(acc)\n",
    "            if current_step % 100 == 0:\n",
    "                print(\n",
    "                    f\"\"\"Step {current_step}: Loss {\n",
    "                        loss.item()} Accuracy {acc}\"\"\"\n",
    "                )\n",
    "        current_step += 1\n",
    "\n",
    "elapsed_time = time.time() - start_time\n",
    "print(\"Training transformer completed.\")\n",
    "print(f\"Training time: {elapsed_time:.2f} seconds\")"
   ]
  },
  {
   "cell_type": "markdown",
   "metadata": {},
   "source": [
    "### Evaluate the Transformer model\n"
   ]
  },
  {
   "cell_type": "code",
   "execution_count": 14,
   "metadata": {},
   "outputs": [],
   "source": [
    "def evaluate_model(model, dataloader, device):\n",
    "    model.eval()  # Set model to evaluation mode\n",
    "\n",
    "    true_labels = []\n",
    "    predictions = []\n",
    "\n",
    "    with torch.no_grad():  # No need to track gradients\n",
    "        for texts, labels in dataloader:\n",
    "            texts = texts.to(device)\n",
    "            labels = labels.to(device)\n",
    "\n",
    "            outputs = model(texts)\n",
    "            outputs = outputs.squeeze()\n",
    "\n",
    "            probs = torch.sigmoid(outputs)\n",
    "            predicted_labels = probs.round()\n",
    "            true_labels.extend(labels.cpu().numpy())\n",
    "            predictions.extend(predicted_labels.cpu().numpy())\n",
    "\n",
    "    # Calculate accuracy and F1 score\n",
    "    accuracy = accuracy_score(true_labels, predictions)\n",
    "    f1 = f1_score(true_labels, predictions, average=\"binary\")\n",
    "\n",
    "    return accuracy, f1"
   ]
  },
  {
   "cell_type": "code",
   "execution_count": 15,
   "metadata": {},
   "outputs": [],
   "source": [
    "transformer_accuracy, transformer_f1 = evaluate_model(\n",
    "    model=transformer_model, dataloader=test_loader, device=device\n",
    ")"
   ]
  },
  {
   "cell_type": "code",
   "execution_count": 16,
   "metadata": {},
   "outputs": [
    {
     "data": {
      "text/plain": [
       "(0.788368526601392, 0.7729975958496773)"
      ]
     },
     "execution_count": 16,
     "metadata": {},
     "output_type": "execute_result"
    }
   ],
   "source": [
    "transformer_accuracy, transformer_f1"
   ]
  },
  {
   "cell_type": "code",
   "execution_count": 24,
   "metadata": {},
   "outputs": [
    {
     "ename": "NameError",
     "evalue": "name 'transformer_model' is not defined",
     "output_type": "error",
     "traceback": [
      "\u001b[0;31m---------------------------------------------------------------------------\u001b[0m",
      "\u001b[0;31mNameError\u001b[0m                                 Traceback (most recent call last)",
      "\u001b[1;32m/Users/xiaolongli/Desktop/COMP7404/group_project/sentiment_analysis.ipynb Cell 25\u001b[0m line \u001b[0;36m4\n\u001b[1;32m      <a href='vscode-notebook-cell:/Users/xiaolongli/Desktop/COMP7404/group_project/sentiment_analysis.ipynb#X50sZmlsZQ%3D%3D?line=0'>1</a>\u001b[0m \u001b[39mimport\u001b[39;00m \u001b[39mgc\u001b[39;00m\n\u001b[1;32m      <a href='vscode-notebook-cell:/Users/xiaolongli/Desktop/COMP7404/group_project/sentiment_analysis.ipynb#X50sZmlsZQ%3D%3D?line=2'>3</a>\u001b[0m \u001b[39m# Clean up the memory\u001b[39;00m\n\u001b[0;32m----> <a href='vscode-notebook-cell:/Users/xiaolongli/Desktop/COMP7404/group_project/sentiment_analysis.ipynb#X50sZmlsZQ%3D%3D?line=3'>4</a>\u001b[0m \u001b[39mdel\u001b[39;00m transformer_model\n\u001b[1;32m      <a href='vscode-notebook-cell:/Users/xiaolongli/Desktop/COMP7404/group_project/sentiment_analysis.ipynb#X50sZmlsZQ%3D%3D?line=4'>5</a>\u001b[0m \u001b[39m# Clear GPU cache\u001b[39;00m\n\u001b[1;32m      <a href='vscode-notebook-cell:/Users/xiaolongli/Desktop/COMP7404/group_project/sentiment_analysis.ipynb#X50sZmlsZQ%3D%3D?line=5'>6</a>\u001b[0m \u001b[39mif\u001b[39;00m torch\u001b[39m.\u001b[39mcuda\u001b[39m.\u001b[39mis_available():\n",
      "\u001b[0;31mNameError\u001b[0m: name 'transformer_model' is not defined"
     ]
    }
   ],
   "source": [
    "import gc\n",
    "\n",
    "# Clean up the memory\n",
    "del transformer_model\n",
    "# Clear GPU cache\n",
    "if torch.cuda.is_available():\n",
    "    torch.cuda.empty_cache()\n",
    "    torch.cuda.synchronize()\n",
    "gc.collect()  # Explicit garbage collection"
   ]
  },
  {
   "cell_type": "markdown",
   "metadata": {},
   "source": [
    "## Build the Reformer\n"
   ]
  },
  {
   "cell_type": "code",
   "execution_count": 30,
   "metadata": {},
   "outputs": [],
   "source": [
    "class ReformerForClassification(nn.Module):\n",
    "    def __init__(self, num_tokens, emb_dim, dim, depth, heads, max_seq_len):\n",
    "        super(ReformerForClassification, self).__init__()\n",
    "        self.encoder = ReformerLM(\n",
    "            num_tokens=num_tokens,\n",
    "            emb_dim=emb_dim,\n",
    "            dim=dim,\n",
    "            depth=depth,\n",
    "            heads=heads,\n",
    "            max_seq_len=max_seq_len,\n",
    "            fixed_position_emb=True,\n",
    "            return_embeddings=True,\n",
    "        )\n",
    "\n",
    "        # Classification head\n",
    "        self.dropout = nn.Dropout(0.2)\n",
    "        self.classifier = nn.Linear(dim, 1)\n",
    "\n",
    "    def forward(self, x):\n",
    "        # Encoder processes the input\n",
    "        encoded_output = self.encoder(x)\n",
    "        encoded_output = self.dropout(encoded_output)\n",
    "        encoded_output = encoded_output.max(dim=1)[0]\n",
    "        output = self.classifier(encoded_output)\n",
    "\n",
    "        return output"
   ]
  },
  {
   "cell_type": "markdown",
   "metadata": {},
   "source": [
    "### Train the Reformer model\n"
   ]
  },
  {
   "cell_type": "code",
   "execution_count": 31,
   "metadata": {},
   "outputs": [],
   "source": [
    "reformer = ReformerForClassification(\n",
    "    num_tokens=NUM_TOKENS,\n",
    "    emb_dim=EMEBED_DIM,\n",
    "    dim=EMEBED_DIM,\n",
    "    depth=NUM_ENCODER_LAYERS,\n",
    "    heads=NUM_HEADS,\n",
    "    max_seq_len=seq_length,\n",
    ").to(device)"
   ]
  },
  {
   "cell_type": "code",
   "execution_count": 32,
   "metadata": {},
   "outputs": [
    {
     "name": "stdout",
     "output_type": "stream",
     "text": [
      "27,946,241 training parameters.\n",
      "\n"
     ]
    }
   ],
   "source": [
    "total_trainable_params = sum(\n",
    "    p.numel() for p in reformer.parameters() if p.requires_grad\n",
    ")\n",
    "print(f\"{total_trainable_params:,} training parameters.\\n\")"
   ]
  },
  {
   "cell_type": "code",
   "execution_count": 33,
   "metadata": {},
   "outputs": [
    {
     "name": "stderr",
     "output_type": "stream",
     "text": [
      "  0%|          | 0/6 [00:00<?, ?it/s]"
     ]
    },
    {
     "name": "stdout",
     "output_type": "stream",
     "text": [
      "Step 100: Loss 0.7204930782318115 Accuracy 0.5\n",
      "Step 200: Loss 0.7280282378196716 Accuracy 0.40625\n",
      "Step 300: Loss 0.65981525182724 Accuracy 0.625\n",
      "Step 400: Loss 0.6636711359024048 Accuracy 0.5625\n",
      "Step 500: Loss 0.6133213639259338 Accuracy 0.71875\n"
     ]
    },
    {
     "name": "stderr",
     "output_type": "stream",
     "text": [
      " 17%|█▋        | 1/6 [04:44<23:44, 284.96s/it]"
     ]
    },
    {
     "name": "stdout",
     "output_type": "stream",
     "text": [
      "Step 600: Loss 0.6724161505699158 Accuracy 0.5\n",
      "Step 700: Loss 0.628038227558136 Accuracy 0.71875\n",
      "Step 800: Loss 0.6241970658302307 Accuracy 0.6875\n",
      "Step 900: Loss 0.632611870765686 Accuracy 0.625\n",
      "Step 1000: Loss 0.672920823097229 Accuracy 0.625\n"
     ]
    },
    {
     "name": "stderr",
     "output_type": "stream",
     "text": [
      " 33%|███▎      | 2/6 [09:27<18:54, 283.60s/it]"
     ]
    },
    {
     "name": "stdout",
     "output_type": "stream",
     "text": [
      "Step 1100: Loss 0.6552684307098389 Accuracy 0.625\n",
      "Step 1200: Loss 0.6383309960365295 Accuracy 0.5625\n",
      "Step 1300: Loss 0.5774133205413818 Accuracy 0.8125\n",
      "Step 1400: Loss 0.6062222719192505 Accuracy 0.71875\n",
      "Step 1500: Loss 0.5626308917999268 Accuracy 0.75\n"
     ]
    },
    {
     "name": "stderr",
     "output_type": "stream",
     "text": [
      " 50%|█████     | 3/6 [14:14<14:15, 285.23s/it]"
     ]
    },
    {
     "name": "stdout",
     "output_type": "stream",
     "text": [
      "Step 1600: Loss 0.6434519290924072 Accuracy 0.53125\n",
      "Step 1700: Loss 0.5355865955352783 Accuracy 0.84375\n",
      "Step 1800: Loss 0.555018424987793 Accuracy 0.75\n",
      "Step 1900: Loss 0.6188451647758484 Accuracy 0.71875\n",
      "Step 2000: Loss 0.5944840908050537 Accuracy 0.78125\n"
     ]
    },
    {
     "name": "stderr",
     "output_type": "stream",
     "text": [
      " 67%|██████▋   | 4/6 [18:58<09:29, 284.54s/it]"
     ]
    },
    {
     "name": "stdout",
     "output_type": "stream",
     "text": [
      "Step 2100: Loss 0.46560904383659363 Accuracy 0.90625\n",
      "Step 2200: Loss 0.49937018752098083 Accuracy 0.84375\n",
      "Step 2300: Loss 0.6512545347213745 Accuracy 0.625\n",
      "Step 2400: Loss 0.436227947473526 Accuracy 0.90625\n",
      "Step 2500: Loss 0.50152587890625 Accuracy 0.75\n"
     ]
    },
    {
     "name": "stderr",
     "output_type": "stream",
     "text": [
      " 83%|████████▎ | 5/6 [23:38<04:43, 283.16s/it]"
     ]
    },
    {
     "name": "stdout",
     "output_type": "stream",
     "text": [
      "Step 2600: Loss 0.48756951093673706 Accuracy 1.0\n",
      "Step 2700: Loss 0.48813140392303467 Accuracy 0.84375\n",
      "Step 2800: Loss 0.5157549381256104 Accuracy 0.71875\n",
      "Step 2900: Loss 0.48087331652641296 Accuracy 0.78125\n",
      "Step 3000: Loss 0.5524560809135437 Accuracy 0.6875\n",
      "Step 3100: Loss 0.4902305603027344 Accuracy 0.71875\n"
     ]
    },
    {
     "name": "stderr",
     "output_type": "stream",
     "text": [
      "100%|██████████| 6/6 [28:24<00:00, 284.04s/it]"
     ]
    },
    {
     "name": "stdout",
     "output_type": "stream",
     "text": [
      "Training Reformer completed.\n",
      "Training time: 1704.23 seconds\n"
     ]
    },
    {
     "name": "stderr",
     "output_type": "stream",
     "text": [
      "\n"
     ]
    }
   ],
   "source": [
    "optimizer = optim.Adam(reformer.parameters(), lr=0.00001)\n",
    "reformer_train_loss = []\n",
    "reformer_train_acc = []\n",
    "# for current_step in tqdm.tqdm(range(total_steps)):\n",
    "current_step = 0\n",
    "start_time = time.time()\n",
    "for epochs in tqdm.tqdm(range(TRAIN_EPOCHS)):\n",
    "    for reviews, label in train_loader:\n",
    "        reviews = reviews.to(device)\n",
    "        label = label.to(device)\n",
    "        optimizer.zero_grad()\n",
    "        output = reformer(reviews)\n",
    "        output = output.squeeze()\n",
    "        # print(output.size(), label.size())\n",
    "        label = label.float()\n",
    "        loss = criterion(output, label)\n",
    "        loss.backward()\n",
    "        optimizer.step()\n",
    "        current_step += 1\n",
    "        if current_step % 10 == 0:\n",
    "            acc = calculate_accuracy(output, label)\n",
    "            reformer_train_loss.append(loss.item())\n",
    "            reformer_train_loss.append(acc)\n",
    "            if current_step % 100 == 0:\n",
    "                print(\n",
    "                    f\"\"\"Step {current_step}: Loss {\n",
    "                        loss.item()} Accuracy {acc}\"\"\"\n",
    "                )\n",
    "\n",
    "elapsed_time = time.time() - start_time\n",
    "print(\"Training Reformer completed.\")\n",
    "print(f\"Training time: {elapsed_time:.2f} seconds\")"
   ]
  },
  {
   "cell_type": "markdown",
   "metadata": {},
   "source": [
    "### Evaluate the Reformer model\n"
   ]
  },
  {
   "cell_type": "code",
   "execution_count": 34,
   "metadata": {},
   "outputs": [],
   "source": [
    "reformer_accuracy, reformer_f1 = evaluate_model(\n",
    "    model=reformer, dataloader=test_loader, device=device\n",
    ")"
   ]
  },
  {
   "cell_type": "code",
   "execution_count": 35,
   "metadata": {},
   "outputs": [
    {
     "data": {
      "text/plain": [
       "(0.7807597027250206, 0.7870036101083033)"
      ]
     },
     "execution_count": 35,
     "metadata": {},
     "output_type": "execute_result"
    }
   ],
   "source": [
    "reformer_accuracy, reformer_f1"
   ]
  },
  {
   "cell_type": "markdown",
   "metadata": {},
   "source": [
    "## Plot the results\n"
   ]
  },
  {
   "cell_type": "code",
   "execution_count": 37,
   "metadata": {},
   "outputs": [
    {
     "data": {
      "image/png": "[encoded data removed]",
      "text/plain": [
       "<Figure size 1200x600 with 2 Axes>"
      ]
     },
     "metadata": {},
     "output_type": "display_data"
    }
   ],
   "source": [
    "import matplotlib.pyplot as plt\n",
    "import seaborn as sns\n",
    "import numpy as np\n",
    "\n",
    "\n",
    "# Plot settings\n",
    "sns.set(style=\"whitegrid\")\n",
    "fig, ax = plt.subplots(1, 2, figsize=(12, 6), sharey=False)\n",
    "\n",
    "# Plotting training data\n",
    "sns.lineplot(\n",
    "    ax=ax[0],\n",
    "    data={\n",
    "        \"Transformer Train Loss\": transformer_train_loss,\n",
    "    },\n",
    "    dashes=False,\n",
    ")\n",
    "ax[0].set_title(\"Training Performance\")\n",
    "ax[0].set_xlabel(\"Steps\")\n",
    "ax[0].set_ylabel(\"Loss\")\n",
    "ax[0].legend(loc=\"upper right\")\n",
    "\n",
    "sns.lineplot(\n",
    "    ax=ax[1],\n",
    "    data={\n",
    "        \"Reformer Train Loss\": reformer_train_loss,\n",
    "    },\n",
    "    dashes=False,\n",
    ")\n",
    "ax[1].set_title(\"Training Performance\")\n",
    "ax[1].set_xlabel(\"Steps\")\n",
    "ax[1].set_ylabel(\"Loss\")\n",
    "ax[1].legend(loc=\"upper right\")\n",
    "\n",
    "plt.tight_layout()\n",
    "plt.show()"
   ]
  }
 ],
 "metadata": {
  "kernelspec": {
   "display_name": "pytorch",
   "language": "python",
   "name": "python3"
  },
  "language_info": {
   "codemirror_mode": {
    "name": "ipython",
    "version": 3
   },
   "file_extension": ".py",
   "mimetype": "text/x-python",
   "name": "python",
   "nbconvert_exporter": "python",
   "pygments_lexer": "ipython3",
   "version": "3.11.5"
  },
  "orig_nbformat": 4
 },
 "nbformat": 4,
 "nbformat_minor": 2
}
